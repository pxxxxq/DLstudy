{
 "cells": [
  {
   "cell_type": "code",
   "execution_count": 1,
   "metadata": {},
   "outputs": [
    {
     "data": {
      "text/html": [
       "<div>\n",
       "<style scoped>\n",
       "    .dataframe tbody tr th:only-of-type {\n",
       "        vertical-align: middle;\n",
       "    }\n",
       "\n",
       "    .dataframe tbody tr th {\n",
       "        vertical-align: top;\n",
       "    }\n",
       "\n",
       "    .dataframe thead th {\n",
       "        text-align: right;\n",
       "    }\n",
       "</style>\n",
       "<table border=\"1\" class=\"dataframe\">\n",
       "  <thead>\n",
       "    <tr style=\"text-align: right;\">\n",
       "      <th></th>\n",
       "      <th>0</th>\n",
       "      <th>1</th>\n",
       "      <th>2</th>\n",
       "    </tr>\n",
       "  </thead>\n",
       "  <tbody>\n",
       "    <tr>\n",
       "      <th>0</th>\n",
       "      <td>1</td>\n",
       "      <td>2</td>\n",
       "      <td>3</td>\n",
       "    </tr>\n",
       "    <tr>\n",
       "      <th>1</th>\n",
       "      <td>4</td>\n",
       "      <td>5</td>\n",
       "      <td>6</td>\n",
       "    </tr>\n",
       "  </tbody>\n",
       "</table>\n",
       "</div>"
      ],
      "text/plain": [
       "   0  1  2\n",
       "0  1  2  3\n",
       "1  4  5  6"
      ]
     },
     "execution_count": 1,
     "metadata": {},
     "output_type": "execute_result"
    }
   ],
   "source": [
    "import pandas as pd\n",
    "\n",
    "frame = pd.DataFrame([[1,2,3],[4,5,6]])\n",
    "frame\n"
   ]
  },
  {
   "cell_type": "markdown",
   "metadata": {},
   "source": [
    "판다스는 데이터를 표형태로 처리할 수 있어서 데이터 핸들링이 편하다."
   ]
  },
  {
   "cell_type": "code",
   "execution_count": 4,
   "metadata": {},
   "outputs": [
    {
     "name": "stdout",
     "output_type": "stream",
     "text": [
      "  Name  Age   Sex\n",
      "0  AMY   13  girl\n",
      "1  BEN   13   boy\n",
      "2  EVA   14  girl\n",
      "3  KIM   14  girl\n",
      "4  NEO   14   boy\n"
     ]
    }
   ],
   "source": [
    "import pandas as pd\n",
    "\n",
    "data = [['AMY', 13, 'girl'], \n",
    "            ['BEN', 13, 'boy'],\n",
    "            ['EVA', 14,  'girl'], \n",
    "            ['KIM', 14,  'girl'], \n",
    "            ['NEO', 14, 'boy']]\n",
    "\n",
    "df = pd.DataFrame(data, columns=['Name', 'Age', 'Sex'])\n",
    "\n",
    "print(df)\n",
    "import numpy as np\n",
    "import pandas as pd\n",
    "import tensorflow as tf\n",
    "import matplotlib.pyplot as plt\n",
    "from matplotlib import cm #맷플롯립에서 colormap을 불러옴 : 데이터 값에 따라 색상으로 표현\n",
    "#\n",
    "from scipy.stats import qmc # upgrade scipy for LHS !pip install scipy --upgrade\n",
    "#확률적 랜덤이 아닌 준랜덤 시퀀스를 사용해서 더 균일한 임의의 분포를 얻는 qmc"
   ]
  },
  {
   "cell_type": "code",
   "execution_count": 7,
   "metadata": {},
   "outputs": [
    {
     "name": "stdout",
     "output_type": "stream",
     "text": [
      "[[-0.0438186 ]\n",
      " [ 0.84016227]\n",
      " [ 0.52716222]\n",
      " [-0.16743027]\n",
      " [-0.91593953]\n",
      " [ 0.69556559]\n",
      " [ 0.37753755]\n",
      " [ 0.77576489]\n",
      " [-0.31013886]\n",
      " [-0.25922393]\n",
      " [-0.66448671]\n",
      " [ 0.57093998]\n",
      " [ 0.8968597 ]\n",
      " [-0.08021255]\n",
      " [ 0.1840526 ]\n",
      " [-0.96811999]\n",
      " [-0.336257  ]\n",
      " [ 0.25216896]\n",
      " [ 0.92590744]\n",
      " [ 0.98468741]\n",
      " [-0.49291953]\n",
      " [ 0.42948433]\n",
      " [ 0.01915828]\n",
      " [-0.60955545]\n",
      " [-0.37574748]\n",
      " [ 0.73331706]\n",
      " [ 0.51586441]\n",
      " [ 0.11963327]\n",
      " [-0.87676107]\n",
      " [ 0.8365074 ]\n",
      " [ 0.28463178]\n",
      " [ 0.14598853]\n",
      " [ 0.06876162]\n",
      " [-0.69146207]\n",
      " [-0.92658488]\n",
      " [-0.0283639 ]\n",
      " [-0.41642378]\n",
      " [ 0.23946587]\n",
      " [-0.15722373]\n",
      " [-0.82968893]\n",
      " [-0.52087238]\n",
      " [-0.79936118]\n",
      " [ 0.60692755]\n",
      " [ 0.47762674]\n",
      " [-0.72789566]\n",
      " [ 0.64751036]\n",
      " [-0.59564059]\n",
      " [-0.47826072]\n",
      " [ 0.33523118]\n",
      " [-0.23320749]\n",
      " [-1.        ]\n",
      " [-1.        ]\n",
      " [-1.        ]\n",
      " [-1.        ]\n",
      " [-1.        ]\n",
      " [-1.        ]\n",
      " [-1.        ]\n",
      " [-1.        ]\n",
      " [-1.        ]\n",
      " [-1.        ]\n",
      " [-1.        ]\n",
      " [-1.        ]\n",
      " [-1.        ]\n",
      " [-1.        ]\n",
      " [-1.        ]\n",
      " [-1.        ]\n",
      " [-1.        ]\n",
      " [-1.        ]\n",
      " [-1.        ]\n",
      " [-1.        ]\n",
      " [-1.        ]\n",
      " [-1.        ]\n",
      " [-1.        ]\n",
      " [-1.        ]\n",
      " [-1.        ]\n",
      " [ 1.        ]\n",
      " [ 1.        ]\n",
      " [ 1.        ]\n",
      " [ 1.        ]\n",
      " [ 1.        ]\n",
      " [ 1.        ]\n",
      " [ 1.        ]\n",
      " [ 1.        ]\n",
      " [ 1.        ]\n",
      " [ 1.        ]\n",
      " [ 1.        ]\n",
      " [ 1.        ]\n",
      " [ 1.        ]\n",
      " [ 1.        ]\n",
      " [ 1.        ]\n",
      " [ 1.        ]\n",
      " [ 1.        ]\n",
      " [ 1.        ]\n",
      " [ 1.        ]\n",
      " [ 1.        ]\n",
      " [ 1.        ]\n",
      " [ 1.        ]\n",
      " [ 1.        ]\n",
      " [ 1.        ]\n",
      " [ 1.        ]]\n"
     ]
    }
   ],
   "source": [
    "### generating data\n",
    "\n",
    "# number of boundary and initial data points\n",
    "# value `Nd` in the reference paper:\n",
    "# Nd = number_of_ic_points + number_of_bc1_points + number_of_bc1_points \n",
    "number_of_ic_points = 50  #초기조건 데이터\n",
    "number_of_bc1_points = 25 #경계조건 데이터 for x= -1\n",
    "number_of_bc2_points = 25 #경계조건 데이터 for x= 1\n",
    "\n",
    "# Latin Hypercube Sampling (LHS) engine ; to sample random points in domain,\n",
    "# boundary and initial boundary\n",
    "engine = qmc.LatinHypercube(d=1) #1차원 샘플을 만들어줄 엔진(인스턴스)생성\n",
    "\n",
    "# temporal data points\n",
    "t_d = engine.random(n=number_of_bc1_points + number_of_bc2_points)\n",
    "temp = np.zeros([number_of_ic_points, 1]) # for IC ; t = 0\n",
    "t_d = np.append(temp, t_d, axis=0)\n",
    "# spatial data points\n",
    "x_d = engine.random(n=number_of_ic_points)\n",
    "x_d = 2 * (x_d - 0.5)\n",
    "temp1 = -1 * np.ones([number_of_bc1_points, 1]) # for BC1 ; x = -1\n",
    "temp2 = +1 * np.ones([number_of_bc2_points, 1]) # for BC2 ; x = +1\n",
    "x_d = np.append(x_d, temp1, axis=0)\n",
    "x_d = np.append(x_d, temp2, axis=0)\n",
    "print(x_d)"
   ]
  },
  {
   "cell_type": "code",
   "execution_count": 3,
   "metadata": {},
   "outputs": [
    {
     "name": "stdout",
     "output_type": "stream",
     "text": [
      "0    AMY\n",
      "1    BEN\n",
      "2    EVA\n",
      "3    KIM\n",
      "4    NEO\n",
      "Name: Name, dtype: object\n"
     ]
    }
   ],
   "source": [
    "print(df['Name'])"
   ]
  }
 ],
 "metadata": {
  "kernelspec": {
   "display_name": "Python 3",
   "language": "python",
   "name": "python3"
  },
  "language_info": {
   "codemirror_mode": {
    "name": "ipython",
    "version": 3
   },
   "file_extension": ".py",
   "mimetype": "text/x-python",
   "name": "python",
   "nbconvert_exporter": "python",
   "pygments_lexer": "ipython3",
   "version": "3.12.2"
  }
 },
 "nbformat": 4,
 "nbformat_minor": 2
}
