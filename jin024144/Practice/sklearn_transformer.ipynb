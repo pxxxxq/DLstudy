{
 "cells": [
  {
   "cell_type": "code",
   "execution_count": null,
   "metadata": {},
   "outputs": [
    {
     "name": "stdout",
     "output_type": "stream",
     "text": [
      "[[ 1.  2.  3.  4.  6.  9.]\n",
      " [ 1.  4.  5. 16. 20. 25.]]\n"
     ]
    }
   ],
   "source": [
    "from sklearn.preprocessing import PolynomialFeatures\n",
    "\n",
    "poly = PolynomialFeatures()\n",
    "K=[[2,3],[4,5]]\n",
    "poly.fit(K) #transform 전에 꼭 fit하는 과정이 필요. (사이킷런의 일관된 API 때문)\n",
    "print(poly.transform(K)) "
   ]
  },
  {
   "cell_type": "code",
   "execution_count": 3,
   "metadata": {},
   "outputs": [
    {
     "name": "stdout",
     "output_type": "stream",
     "text": [
      "[[ 2.  3.  4.  6.  9.]\n",
      " [ 4.  5. 16. 20. 25.]]\n"
     ]
    }
   ],
   "source": [
    "poly = PolynomialFeatures(include_bias=False)\n",
    "K=[[2,3],[4,5]]\n",
    "poly.fit(K) \n",
    "print(poly.transform(K)) "
   ]
  },
  {
   "cell_type": "code",
   "execution_count": 8,
   "metadata": {},
   "outputs": [
    {
     "name": "stdout",
     "output_type": "stream",
     "text": [
      "오류 발생: X has 3 features, but PolynomialFeatures is expecting 2 features as input.\n"
     ]
    }
   ],
   "source": [
    "from sklearn.preprocessing import PolynomialFeatures\n",
    "\n",
    "# fit은 2개의 피처로 학습\n",
    "poly = PolynomialFeatures(degree=2)\n",
    "train_input = [[1, 2], [3, 4]]\n",
    "poly.fit(train_input)\n",
    "\n",
    "# transform에 차원이 다른 데이터가 들어갈 경우 오류 발생\n",
    "test_input = [[5, 6, 7]]\n",
    "try:\n",
    "    test_poly = poly.transform(test_input)\n",
    "except ValueError as e:\n",
    "    print(\"오류 발생:\", e)\n"
   ]
  }
 ],
 "metadata": {
  "kernelspec": {
   "display_name": "Python 3",
   "language": "python",
   "name": "python3"
  },
  "language_info": {
   "codemirror_mode": {
    "name": "ipython",
    "version": 3
   },
   "file_extension": ".py",
   "mimetype": "text/x-python",
   "name": "python",
   "nbconvert_exporter": "python",
   "pygments_lexer": "ipython3",
   "version": "3.12.2"
  }
 },
 "nbformat": 4,
 "nbformat_minor": 2
}
